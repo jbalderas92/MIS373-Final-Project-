{
 "cells": [
  {
   "cell_type": "code",
   "execution_count": 1,
   "metadata": {
    "collapsed": false
   },
   "outputs": [
    {
     "name": "stdout",
     "output_type": "stream",
     "text": [
      "Populating the interactive namespace from numpy and matplotlib\n"
     ]
    }
   ],
   "source": [
    "from pandas import Series, DataFrame\n",
    "import pandas as pd\n",
    "%pylab inline\n",
    "from datetime import datetime\n",
    "\n",
    "\n",
    "#make file shorter by creatting a sample file of 10,000 records\n",
    "import random\n",
    "\n",
    "\n",
    "filename = \"GlobalLandTemperaturesByCity.csv\"\n",
    "#number of records in file (excludes header)\n",
    "n = sum(1 for line in open(filename)) - 1 \n",
    "\n",
    "#desired sample size\n",
    "s = 1000 \n",
    "\n",
    "#the 0-indexed header will not be included in the skip list\n",
    "skip = sorted(random.sample(xrange(1,n+1),n-s))  \n",
    "\n",
    "#create sample dataframe \n",
    "global_temp_city  = pd.read_csv(filename, skiprows=skip).dropna()\n",
    "\n",
    "#format dt column to be a datetime value \n",
    "global_temp_city['dt'] =  pd.to_datetime(global_temp_city['dt'], format=\"%Y-%m-%d\")\n",
    "\n",
    "\n",
    "global_temp_city[0:10]"
   ]
  },
  {
   "cell_type": "code",
   "execution_count": 56,
   "metadata": {
    "collapsed": false
   },
   "outputs": [
    {
     "data": {
      "text/plain": [
       "dtype('<M8[ns]')"
      ]
     },
     "execution_count": 56,
     "metadata": {},
     "output_type": "execute_result"
    }
   ],
   "source": [
    "#create dictionary to hodl temp for each year\n",
    "\n",
    "#first create dictionary to hold temp recorded in each country by year \n",
    "yearly_temp= {}\n",
    "\n",
    "    \n",
    "for index, row in global_temp_city.iterrows():\n",
    "    year = row['dt'].year\n",
    "    if year in yearly_temp:\n",
    "        yearly_temp[year].append(row['AverageTemperature'])\n",
    "    else:\n",
    "       yearly_temp[year]= [row['AverageTemperature']]\n",
    "\n",
    "average_yearly_temp = {}\n",
    "\n",
    "for keys in yearly_temp:\n",
    "    average_temp = sum(yearly_temp[keys])/len(yearly_temp)\n",
    "    average_yearly_temp[keys] = average_temp\n",
    "    \n",
    "\n",
    "\n"
   ]
  },
  {
   "cell_type": "markdown",
   "metadata": {
    "collapsed": false
   },
   "source": [
    "#create new column for year and average temp for each year \n",
    "global_temp_city['year']= ''\n",
    "#global_temp_city['AvgTempYear']= ''\n",
    "global_temp_city[:5]\n",
    " \n"
   ]
  },
  {
   "cell_type": "code",
   "execution_count": null,
   "metadata": {
    "collapsed": false
   },
   "outputs": [],
   "source": [
    "for key, value in average_yearly_temp.iteritems() :\n",
    "    #print key, value\n",
    "    \n",
    "    for index, row in global_temp_city.iterrows():\n",
    "        if row['dt'].year == key:\n",
    "            #global_temp_city['Year'].iloc[index] = key\n",
    "            global_temp_city['year'][index] = key\n",
    "global_temp_city[:5]"
   ]
  },
  {
   "cell_type": "code",
   "execution_count": null,
   "metadata": {
    "collapsed": false
   },
   "outputs": [],
   "source": []
  }
 ],
 "metadata": {
  "kernelspec": {
   "display_name": "Python 2",
   "language": "python",
   "name": "python2"
  },
  "language_info": {
   "codemirror_mode": {
    "name": "ipython",
    "version": 2
   },
   "file_extension": ".py",
   "mimetype": "text/x-python",
   "name": "python",
   "nbconvert_exporter": "python",
   "pygments_lexer": "ipython2",
   "version": "2.7.10"
  }
 },
 "nbformat": 4,
 "nbformat_minor": 0
}
