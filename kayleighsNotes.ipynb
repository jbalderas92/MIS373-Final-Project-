{
 "cells": [
  {
   "cell_type": "code",
   "execution_count": 9,
   "metadata": {
    "collapsed": false
   },
   "outputs": [
    {
     "data": {
      "text/html": [
       "<div>\n",
       "<table border=\"1\" class=\"dataframe\">\n",
       "  <thead>\n",
       "    <tr style=\"text-align: right;\">\n",
       "      <th></th>\n",
       "      <th>dt</th>\n",
       "      <th>AverageTemperature</th>\n",
       "      <th>AverageTemperatureUncertainty</th>\n",
       "      <th>City</th>\n",
       "      <th>Country</th>\n",
       "      <th>Latitude</th>\n",
       "      <th>Longitude</th>\n",
       "    </tr>\n",
       "  </thead>\n",
       "  <tbody>\n",
       "    <tr>\n",
       "      <th>0</th>\n",
       "      <td>1743-11-01 00:00:00</td>\n",
       "      <td>6.068</td>\n",
       "      <td>1.737</td>\n",
       "      <td>Århus</td>\n",
       "      <td>Denmark</td>\n",
       "      <td>57.05N</td>\n",
       "      <td>10.33E</td>\n",
       "    </tr>\n",
       "    <tr>\n",
       "      <th>5</th>\n",
       "      <td>1744-04-01 00:00:00</td>\n",
       "      <td>5.788</td>\n",
       "      <td>3.624</td>\n",
       "      <td>Århus</td>\n",
       "      <td>Denmark</td>\n",
       "      <td>57.05N</td>\n",
       "      <td>10.33E</td>\n",
       "    </tr>\n",
       "    <tr>\n",
       "      <th>6</th>\n",
       "      <td>1744-05-01 00:00:00</td>\n",
       "      <td>10.644</td>\n",
       "      <td>1.283</td>\n",
       "      <td>Århus</td>\n",
       "      <td>Denmark</td>\n",
       "      <td>57.05N</td>\n",
       "      <td>10.33E</td>\n",
       "    </tr>\n",
       "    <tr>\n",
       "      <th>7</th>\n",
       "      <td>1744-06-01 00:00:00</td>\n",
       "      <td>14.051</td>\n",
       "      <td>1.347</td>\n",
       "      <td>Århus</td>\n",
       "      <td>Denmark</td>\n",
       "      <td>57.05N</td>\n",
       "      <td>10.33E</td>\n",
       "    </tr>\n",
       "    <tr>\n",
       "      <th>8</th>\n",
       "      <td>1744-07-01 00:00:00</td>\n",
       "      <td>16.082</td>\n",
       "      <td>1.396</td>\n",
       "      <td>Århus</td>\n",
       "      <td>Denmark</td>\n",
       "      <td>57.05N</td>\n",
       "      <td>10.33E</td>\n",
       "    </tr>\n",
       "    <tr>\n",
       "      <th>10</th>\n",
       "      <td>1744-09-01 00:00:00</td>\n",
       "      <td>12.781</td>\n",
       "      <td>1.454</td>\n",
       "      <td>Århus</td>\n",
       "      <td>Denmark</td>\n",
       "      <td>57.05N</td>\n",
       "      <td>10.33E</td>\n",
       "    </tr>\n",
       "  </tbody>\n",
       "</table>\n",
       "</div>"
      ],
      "text/plain": [
       "                    dt  AverageTemperature  AverageTemperatureUncertainty  \\\n",
       "0  1743-11-01 00:00:00               6.068                          1.737   \n",
       "5  1744-04-01 00:00:00               5.788                          3.624   \n",
       "6  1744-05-01 00:00:00              10.644                          1.283   \n",
       "7  1744-06-01 00:00:00              14.051                          1.347   \n",
       "8  1744-07-01 00:00:00              16.082                          1.396   \n",
       "10 1744-09-01 00:00:00              12.781                          1.454   \n",
       "\n",
       "     City  Country Latitude Longitude  \n",
       "0   Århus  Denmark   57.05N    10.33E  \n",
       "5   Århus  Denmark   57.05N    10.33E  \n",
       "6   Århus  Denmark   57.05N    10.33E  \n",
       "7   Århus  Denmark   57.05N    10.33E  \n",
       "8   Århus  Denmark   57.05N    10.33E  \n",
       "10  Århus  Denmark   57.05N    10.33E  "
      ]
     },
     "execution_count": 9,
     "metadata": {},
     "output_type": "execute_result"
    }
   ],
   "source": [
    "from pandas import Series, DataFrame\n",
    "import pandas as pd\n",
    "%matplotlib inline\n",
    "from datetime import datetime\n",
    "\n",
    "filename = \"shortened.csv\"\n",
    "\n",
    "#create sample dataframe \n",
    "global_temp_city  = pd.read_csv(filename).dropna()\n",
    "\n",
    "#format dt column to be a datetime value \n",
    "global_temp_city['dt'] =  pd.to_datetime(global_temp_city['dt'])\n",
    "\n",
    "#how to retrieve month, year from date\n",
    "#print global_temp_city['dt'][0].date().month\n",
    "#print global_temp_city['dt'][0].date().year\n",
    "\n",
    "global_temp_city[:6]"
   ]
  },
  {
   "cell_type": "code",
   "execution_count": 10,
   "metadata": {
    "collapsed": false
   },
   "outputs": [],
   "source": [
    "#create dictionary to hodl temp for each year\n",
    "\n",
    "#first create dictionary to hold temp recorded in each country by year \n",
    "#yearly_temp= {}\n",
    "\n",
    "    \n",
    "#for index, row in global_temp_city.iterrows():\n",
    "    #year = row['dt'].year\n",
    "    #if year in yearly_temp:\n",
    "        #yearly_temp[year].append(row['AverageTemperature'])\n",
    "    #else:\n",
    "        #yearly_temp[year]= [row['AverageTemperature']]\n",
    "\n",
    "#average_yearly_temp = {}\n",
    "\n",
    "#for keys in yearly_temp:\n",
    "    #average_temp = sum(yearly_temp[keys])/len(yearly_temp[keys])\n",
    "    #average_yearly_temp[keys] = average_temp\n",
    "\n",
    "#print '1743'\n",
    "#print yearly_temp[1743]\n",
    "#print average_yearly_temp[1743]\n",
    "\n"
   ]
  },
  {
   "cell_type": "code",
   "execution_count": 11,
   "metadata": {
    "collapsed": true
   },
   "outputs": [],
   "source": [
    "def getYear(datetimeObj):\n",
    "    return datetimeObj.date().year"
   ]
  },
  {
   "cell_type": "code",
   "execution_count": 12,
   "metadata": {
    "collapsed": true
   },
   "outputs": [],
   "source": [
    "def getAvgYear(year):\n",
    "    return average_yearly_temp[year]"
   ]
  },
  {
   "cell_type": "code",
   "execution_count": 13,
   "metadata": {
    "collapsed": false
   },
   "outputs": [
    {
     "data": {
      "text/html": [
       "<div>\n",
       "<table border=\"1\" class=\"dataframe\">\n",
       "  <thead>\n",
       "    <tr style=\"text-align: right;\">\n",
       "      <th></th>\n",
       "      <th>dt</th>\n",
       "      <th>AverageTemperature</th>\n",
       "      <th>AverageTemperatureUncertainty</th>\n",
       "      <th>City</th>\n",
       "      <th>Country</th>\n",
       "      <th>Latitude</th>\n",
       "      <th>Longitude</th>\n",
       "      <th>year</th>\n",
       "    </tr>\n",
       "  </thead>\n",
       "  <tbody>\n",
       "    <tr>\n",
       "      <th>1072</th>\n",
       "      <td>1833-03-01 00:00:00</td>\n",
       "      <td>0.773</td>\n",
       "      <td>2.863</td>\n",
       "      <td>Århus</td>\n",
       "      <td>Denmark</td>\n",
       "      <td>57.05N</td>\n",
       "      <td>10.33E</td>\n",
       "      <td>1833</td>\n",
       "    </tr>\n",
       "    <tr>\n",
       "      <th>1073</th>\n",
       "      <td>1833-04-01 00:00:00</td>\n",
       "      <td>4.524</td>\n",
       "      <td>1.848</td>\n",
       "      <td>Århus</td>\n",
       "      <td>Denmark</td>\n",
       "      <td>57.05N</td>\n",
       "      <td>10.33E</td>\n",
       "      <td>1833</td>\n",
       "    </tr>\n",
       "    <tr>\n",
       "      <th>1074</th>\n",
       "      <td>1833-05-01 00:00:00</td>\n",
       "      <td>13.180</td>\n",
       "      <td>1.665</td>\n",
       "      <td>Århus</td>\n",
       "      <td>Denmark</td>\n",
       "      <td>57.05N</td>\n",
       "      <td>10.33E</td>\n",
       "      <td>1833</td>\n",
       "    </tr>\n",
       "    <tr>\n",
       "      <th>1075</th>\n",
       "      <td>1833-06-01 00:00:00</td>\n",
       "      <td>15.264</td>\n",
       "      <td>2.315</td>\n",
       "      <td>Århus</td>\n",
       "      <td>Denmark</td>\n",
       "      <td>57.05N</td>\n",
       "      <td>10.33E</td>\n",
       "      <td>1833</td>\n",
       "    </tr>\n",
       "    <tr>\n",
       "      <th>1076</th>\n",
       "      <td>1833-07-01 00:00:00</td>\n",
       "      <td>16.940</td>\n",
       "      <td>1.661</td>\n",
       "      <td>Århus</td>\n",
       "      <td>Denmark</td>\n",
       "      <td>57.05N</td>\n",
       "      <td>10.33E</td>\n",
       "      <td>1833</td>\n",
       "    </tr>\n",
       "  </tbody>\n",
       "</table>\n",
       "</div>"
      ],
      "text/plain": [
       "                      dt  AverageTemperature  AverageTemperatureUncertainty  \\\n",
       "1072 1833-03-01 00:00:00               0.773                          2.863   \n",
       "1073 1833-04-01 00:00:00               4.524                          1.848   \n",
       "1074 1833-05-01 00:00:00              13.180                          1.665   \n",
       "1075 1833-06-01 00:00:00              15.264                          2.315   \n",
       "1076 1833-07-01 00:00:00              16.940                          1.661   \n",
       "\n",
       "       City  Country Latitude Longitude  year  \n",
       "1072  Århus  Denmark   57.05N    10.33E  1833  \n",
       "1073  Århus  Denmark   57.05N    10.33E  1833  \n",
       "1074  Århus  Denmark   57.05N    10.33E  1833  \n",
       "1075  Århus  Denmark   57.05N    10.33E  1833  \n",
       "1076  Århus  Denmark   57.05N    10.33E  1833  "
      ]
     },
     "execution_count": 13,
     "metadata": {},
     "output_type": "execute_result"
    }
   ],
   "source": [
    "#create new column for year and average temp for each year \n",
    "global_temp_city['year']= global_temp_city['dt'].map(getYear)\n",
    "#global_temp_city['AvgTempYear']= global_temp_city['year'].map(getAvgYear)\n",
    "global_temp_city[1000:1005]"
   ]
  },
  {
   "cell_type": "code",
   "execution_count": 17,
   "metadata": {
    "collapsed": false
   },
   "outputs": [
    {
     "data": {
      "text/plain": [
       "year\n",
       "1743     7.399889\n",
       "1744    11.524361\n",
       "1745     3.797611\n",
       "1750    10.988646\n",
       "1751    11.012333\n",
       "1752     6.523759\n",
       "1753    10.271735\n",
       "1754    10.289194\n",
       "1755     9.810762\n",
       "1756    10.581116\n",
       "1757    10.394840\n",
       "1758     9.258462\n",
       "1759    10.320955\n",
       "1760     9.752710\n",
       "1761    10.674473\n",
       "1762    10.222469\n",
       "1763     9.771381\n",
       "1764    10.726613\n",
       "1765    10.170168\n",
       "1766    10.382909\n",
       "1767     9.978519\n",
       "1768     9.492614\n",
       "1769    10.085402\n",
       "1770     9.985917\n",
       "1771    10.008962\n",
       "1772    10.672697\n",
       "1773    10.515182\n",
       "1774    10.338092\n",
       "1775    11.056652\n",
       "1776    10.146229\n",
       "          ...    \n",
       "1984    18.828177\n",
       "1985    18.919726\n",
       "1986    19.014770\n",
       "1987    19.294002\n",
       "1988    19.284148\n",
       "1989    19.245366\n",
       "1990    19.523250\n",
       "1991    19.219430\n",
       "1992    18.993113\n",
       "1993    19.038953\n",
       "1994    19.438882\n",
       "1995    19.478549\n",
       "1996    19.143240\n",
       "1997    19.312695\n",
       "1998    19.837026\n",
       "1999    19.664266\n",
       "2000    19.506680\n",
       "2001    19.616777\n",
       "2002    19.766993\n",
       "2003    19.631782\n",
       "2004    19.715932\n",
       "2005    19.566945\n",
       "2006    19.717029\n",
       "2007    19.851101\n",
       "2008    19.620909\n",
       "2009    19.823199\n",
       "2010    19.816440\n",
       "2011    19.570667\n",
       "2012    19.605116\n",
       "2013    20.336554\n",
       "Name: AverageTemperature, dtype: float64"
      ]
     },
     "execution_count": 17,
     "metadata": {},
     "output_type": "execute_result"
    }
   ],
   "source": [
    "yearlyAvgTemps = global_temp_city.groupby('year')['AverageTemperature'].mean()\n",
    "yearlyAvgTemps"
   ]
  },
  {
   "cell_type": "code",
   "execution_count": null,
   "metadata": {
    "collapsed": false
   },
   "outputs": [],
   "source": []
  },
  {
   "cell_type": "code",
   "execution_count": null,
   "metadata": {
    "collapsed": false
   },
   "outputs": [],
   "source": []
  },
  {
   "cell_type": "markdown",
   "metadata": {
    "collapsed": false
   },
   "source": [
    "plot(cars['wt'], cars['mpg'], marker='o', color='blue', linestyle='None')\n",
    "xlabel('Weight')\n",
    "ylabel('Miles per Gallon')\n",
    "title('Weight versus Efficiency')\n",
    "show()"
   ]
  },
  {
   "cell_type": "code",
   "execution_count": null,
   "metadata": {
    "collapsed": false
   },
   "outputs": [],
   "source": []
  }
 ],
 "metadata": {
  "kernelspec": {
   "display_name": "Python 2",
   "language": "python",
   "name": "python2"
  },
  "language_info": {
   "codemirror_mode": {
    "name": "ipython",
    "version": 2
   },
   "file_extension": ".py",
   "mimetype": "text/x-python",
   "name": "python",
   "nbconvert_exporter": "python",
   "pygments_lexer": "ipython2",
   "version": "2.7.11"
  }
 },
 "nbformat": 4,
 "nbformat_minor": 0
}
